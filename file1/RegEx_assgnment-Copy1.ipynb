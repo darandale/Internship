{
 "cells": [
  {
   "cell_type": "code",
   "execution_count": 2,
   "id": "bcbbf38c",
   "metadata": {},
   "outputs": [],
   "source": [
    "import re"
   ]
  },
  {
   "cell_type": "code",
   "execution_count": 2,
   "id": "26bda8a4",
   "metadata": {},
   "outputs": [
    {
     "name": "stdout",
     "output_type": "stream",
     "text": [
      "Python:Exercises::PHP:exercises:\n"
     ]
    }
   ],
   "source": [
    "#Q1 -Write a Python program to replace all occurrences of a space, comma, or dot with a colon.\n",
    "txt = 'Python Exercises, PHP exercises.'\n",
    "x = re.sub('[ ,.]',':', txt)\n"
   ]
  },
  {
   "cell_type": "code",
   "execution_count": 7,
   "id": "350aa1d4",
   "metadata": {},
   "outputs": [
    {
     "name": "stdout",
     "output_type": "stream",
     "text": [
      "['ercises', 'exercises']\n"
     ]
    }
   ],
   "source": [
    "#Q2 -Write a Python program to find all words starting with 'a' or 'e' in a given string.\n",
    "txt = 'Python Exercises, PHP exercises.'\n",
    "x = re.findall('[ae]\\w+', txt)\n",
    "print(x)"
   ]
  },
  {
   "cell_type": "code",
   "execution_count": 2,
   "id": "ec4f352b",
   "metadata": {},
   "outputs": [
    {
     "name": "stdout",
     "output_type": "stream",
     "text": [
      "['Python', 'Exercises', 'exercises']\n"
     ]
    }
   ],
   "source": [
    "#Q3- Create a function in python to find all words that are at least 4 characters long in a string.\n",
    "#The use of the re.compile() method is mandatory.\n",
    "\n",
    "txt = 'Python Exercises, PHP exercises.'\n",
    "\n",
    "pattern = re.compile('\\w{4,}')\n",
    "\n",
    "x = pattern.findall(txt)\n",
    "print (x)"
   ]
  },
  {
   "cell_type": "code",
   "execution_count": 4,
   "id": "5017510a",
   "metadata": {},
   "outputs": [
    {
     "name": "stdout",
     "output_type": "stream",
     "text": [
      "['How', 'are', 'you', 'Hope', 'every', 'thing', 'fine', 'Thank', 'you']\n"
     ]
    }
   ],
   "source": [
    "#Q4 Create a function in python to find all three, four, and five character words in a string. \n",
    "#The use of the re.compile() method is mandatory.\n",
    "\n",
    "\n",
    "txt = \"How are you? Hope everything is fine. Thank you\"\n",
    "\n",
    "pattern = re.compile('\\w{3,5}')\n",
    "result = pattern.findall(txt)\n",
    "print(result)\n"
   ]
  },
  {
   "cell_type": "code",
   "execution_count": 5,
   "id": "712cd2ae",
   "metadata": {},
   "outputs": [
    {
     "name": "stdout",
     "output_type": "stream",
     "text": [
      "['How', 'are', 'you', 'Hope', 'fine', 'Thank', 'you']\n"
     ]
    }
   ],
   "source": [
    "#Q4 Create a function in python to find all three, four, and five character words in a string. \n",
    "#The use of the re.compile() method is mandatory.\n",
    "\n",
    "txt = \"How are you? Hope everything is fine. Thank you\"\n",
    "\n",
    "pattern = re.compile(r'\\b\\w{3,5}\\b')\n",
    "result = pattern.findall(txt)\n",
    "print(result)"
   ]
  },
  {
   "cell_type": "code",
   "execution_count": 20,
   "id": "0eb2fc4f",
   "metadata": {},
   "outputs": [
    {
     "name": "stdout",
     "output_type": "stream",
     "text": [
      "example .com\n",
      "hr@fliprobo .com\n",
      "github .com\n",
      "Hello Data Science World\n",
      "Data Scientist\n"
     ]
    }
   ],
   "source": [
    "#Q5 Create a function in Python to remove the parenthesis in a list of strings. The use of the re.compile() method is mandatory.\n",
    "import re\n",
    "items = [\"example (.com)\", \"hr@fliprobo (.com)\", \"github (.com)\", \"Hello (Data Science World)\", \"Data (Scientist)\"]\n",
    "\n",
    "pattern = re.compile (r\"[()]\")\n",
    "for item in items:\n",
    "    print(re.sub(pattern, \"\", item))"
   ]
  },
  {
   "cell_type": "code",
   "execution_count": 39,
   "id": "b73f38de",
   "metadata": {},
   "outputs": [
    {
     "name": "stdout",
     "output_type": "stream",
     "text": [
      "\"example\", \"hr@fliprobo\", \"github\", \"Hello\", \"Data\"\n"
     ]
    }
   ],
   "source": [
    "#Q6 Write a python program to remove the parenthesis area from the text stored in the text file using Regular Expression.\n",
    "\n",
    "import re\n",
    "items = '\"example (.com)\", \"hr@fliprobo (.com)\", \"github (.com)\", \"Hello (Data Science World)\", \"Data (Scientist)\"'\n",
    "pattern = re.compile(r\" ?\\([^)]+\\)\")\n",
    "answer = pattern.sub(\"\", items)\n",
    "print(answer)"
   ]
  },
  {
   "cell_type": "code",
   "execution_count": 7,
   "id": "082ab985",
   "metadata": {},
   "outputs": [
    {
     "name": "stdout",
     "output_type": "stream",
     "text": [
      "['Importance', 'Of', 'Regular', 'Expressions', 'In', 'Python']\n"
     ]
    }
   ],
   "source": [
    "#Q7-Write a regular expression in Python to split a string into uppercase letters.\n",
    "#Sample text: “ImportanceOfRegularExpressionsInPython”\n",
    "#Expected Output: [‘Importance’, ‘Of’, ‘Regular’, ‘Expression’, ‘In’, ‘Python’]\n",
    "\n",
    "text = \"ImportanceOfRegularExpressionsInPython\"\n",
    "\n",
    "print (re.findall(\"[A-Z][^A-Z]+\", text))\n"
   ]
  },
  {
   "cell_type": "code",
   "execution_count": 5,
   "id": "57d3a550",
   "metadata": {},
   "outputs": [
    {
     "name": "stdout",
     "output_type": "stream",
     "text": [
      "RegularExpression 1IsAn 2ImportantTopic 3InPython\n"
     ]
    }
   ],
   "source": [
    "#Q8-Create a function in python to insert spaces between words starting with numbers.\n",
    "import re\n",
    "string = 'RegularExpression1IsAn2ImportantTopic3InPython'\n",
    "\n",
    "x = re.sub(r'(\\d+)', r' \\1', string)\n",
    "print (x)"
   ]
  },
  {
   "cell_type": "code",
   "execution_count": 6,
   "id": "59d8b8e8",
   "metadata": {},
   "outputs": [
    {
     "name": "stdout",
     "output_type": "stream",
     "text": [
      "RegularExpression 1 IsAn 2 ImportantTopic 3 InPython\n"
     ]
    }
   ],
   "source": [
    "#Q9 Create a function in python to insert spaces between words starting with capital letters or with numbers.\n",
    "\n",
    "string = 'RegularExpression1IsAn2ImportantTopic3InPython'\n",
    "x = re.sub(r'(\\d+)', r' \\1 ', string)\n",
    "print (x)"
   ]
  },
  {
   "cell_type": "code",
   "execution_count": 17,
   "id": "8186561f",
   "metadata": {},
   "outputs": [
    {
     "name": "stdout",
     "output_type": "stream",
     "text": [
      "['xyz@domain.com', 'xyz.abc@sdomain.domain.com.', 'hr@fliprobo.com']\n"
     ]
    }
   ],
   "source": [
    "#Q10 -Write a python program to extract email address from the text stored in the text file using Regular Expression.\n",
    "\n",
    "\n",
    "txt = \"Hello my name is Data Science and my email address is xyz@domain.com and alternate email address is xyz.abc@sdomain.domain.com. Please contact us at hr@fliprobo.com for further information.\"\n",
    "\n",
    "\n",
    "x = re.findall('\\S+@\\S+', txt)\n",
    "\n",
    "print(x)"
   ]
  },
  {
   "cell_type": "code",
   "execution_count": 21,
   "id": "82910cfc",
   "metadata": {},
   "outputs": [
    {
     "name": "stdout",
     "output_type": "stream",
     "text": [
      "['xyz@domain.com', 'xyz.abc@sdomain.domain.com.']\n",
      "['hr@fliprobo.com']\n"
     ]
    }
   ],
   "source": [
    "#Q10 answer, by storing string in different variables\n",
    "import re\n",
    "\n",
    "x = \"Hello my name is Data Science and my email address is xyz@domain.com and alternate email address is xyz.abc@sdomain.domain.com.\" \n",
    "y= \"Please contact us at hr@fliprobo.com for further information.\"\n",
    "\n",
    "pattern = ('\\S+@\\S+')\n",
    "print(re.findall(pattern, x))\n",
    "print(re.findall(pattern, y))"
   ]
  },
  {
   "cell_type": "code",
   "execution_count": 9,
   "id": "a28913d6",
   "metadata": {},
   "outputs": [
    {
     "name": "stdout",
     "output_type": "stream",
     "text": [
      "['Todays_date_25August23']\n"
     ]
    }
   ],
   "source": [
    "#Q11- Write a Python program to match a string that contains only upper and lowercase letters, numbers, and underscores.\n",
    "\n",
    "txt = 'Todays_date_25August23'\n",
    "\n",
    "x = re.findall(r\"^[A-Za-z0-9_]*$\", txt)\n",
    "\n",
    "print(x)"
   ]
  },
  {
   "cell_type": "code",
   "execution_count": 19,
   "id": "5dfafd77",
   "metadata": {},
   "outputs": [
    {
     "name": "stdout",
     "output_type": "stream",
     "text": [
      "['2']\n"
     ]
    }
   ],
   "source": [
    "#Q12- Write a Python program where a string will start with a specific number. \n",
    "\n",
    "txt = '2nd August 23 is todays date.'\n",
    "\n",
    "\n",
    "x = re.findall(r\"^2\", txt)\n",
    "\n",
    "print(x)"
   ]
  },
  {
   "cell_type": "code",
   "execution_count": 21,
   "id": "f76356c5",
   "metadata": {},
   "outputs": [
    {
     "name": "stdout",
     "output_type": "stream",
     "text": [
      "150.193.92.96\n"
     ]
    }
   ],
   "source": [
    "#Q13- Write a Python program to remove leading zeros from an IP address\n",
    "\n",
    "str = \"150.193.092.0096\"\n",
    "x = re.sub('\\.[0]*', '.', str)\n",
    "print(x)"
   ]
  },
  {
   "cell_type": "code",
   "execution_count": 41,
   "id": "9fc6ff28",
   "metadata": {},
   "outputs": [
    {
     "name": "stdout",
     "output_type": "stream",
     "text": [
      "August 15th 1947\n"
     ]
    }
   ],
   "source": [
    "#Q14- Write a regular expression in python\n",
    "#to match a date string in the form of Month name followed by day number and year stored in a text file.\n",
    "\n",
    "text = \" On August 15th 1947 that India was declared independent from British colonialism, and the reins of control were handed over to the leaders of the Country.\"\n",
    "pattern = re.compile(\"(Jan(uary)?|Feb(ruary)?|Mar(ch)?|Apr(il)?|May|Jun(e)?|\"\n",
    "    \"Jul(y)?|Aug(ust)?|Sep(tember)?|Oct(ober)?|Nov(ember)?|\"\n",
    "    \"Dec(ember)?)\\s+\\d{1,2}(\\w+)\\s+\\d{4}\") \n",
    "print(pattern.search(text).group())\n"
   ]
  },
  {
   "cell_type": "code",
   "execution_count": 13,
   "id": "37dd81db",
   "metadata": {},
   "outputs": [
    {
     "name": "stdout",
     "output_type": "stream",
     "text": [
      "Found: fox\n",
      "Found: dog\n",
      "Not found: horse\n"
     ]
    }
   ],
   "source": [
    "#Q15- Write a Python program to search some literals strings in a string. \n",
    "\n",
    "import re\n",
    "\n",
    "text = 'The quick brown fox jumps over the lazy dog.'\n",
    "patterns = [ 'fox', 'dog', 'horse' ]\n",
    "\n",
    "for pattern in patterns:\n",
    "    if re.search(pattern,  text):\n",
    "        print('Found:', pattern)\n",
    "    else:\n",
    "        print('Not found:', pattern)"
   ]
  },
  {
   "cell_type": "code",
   "execution_count": 22,
   "id": "650e4474",
   "metadata": {},
   "outputs": [
    {
     "name": "stdout",
     "output_type": "stream",
     "text": [
      "<re.Match object; span=(16, 19), match='fox'>\n"
     ]
    }
   ],
   "source": [
    "#Q16- Write a Python program to search a literals string in a string and also find the\n",
    "#location within the original string where the pattern occurs\n",
    "\n",
    "text = 'The quick brown fox jumps over the lazy dog.'\n",
    "\n",
    "x = re.search(\"fox\", text)\n",
    "print (x)"
   ]
  },
  {
   "cell_type": "code",
   "execution_count": 25,
   "id": "d58d4ca7",
   "metadata": {},
   "outputs": [
    {
     "name": "stdout",
     "output_type": "stream",
     "text": [
      "\"exercises\"\n",
      "\"exercises\"\n",
      "\"exercises\"\n"
     ]
    }
   ],
   "source": [
    "#Q17 Write a Python program to find the substrings within a string\n",
    "\n",
    "import re\n",
    "text = 'Python exercises, PHP exercises, C# exercises'\n",
    "pattern = 'exercises'\n",
    "for match in re.findall(pattern, text):\n",
    "    print('\"%s\"'% match )"
   ]
  },
  {
   "cell_type": "code",
   "execution_count": 26,
   "id": "4ac4607b",
   "metadata": {},
   "outputs": [
    {
     "name": "stdout",
     "output_type": "stream",
     "text": [
      "Found \"exercises\" at 7:16\n",
      "Found \"exercises\" at 22:31\n",
      "Found \"exercises\" at 36:45\n"
     ]
    }
   ],
   "source": [
    "#Q18- Write a Python program to find the occurrence and position of the substrings within a string.\n",
    "\n",
    "\n",
    "text = 'Python exercises, PHP exercises, C# exercises'\n",
    "pattern = 'exercises'\n",
    "for match in re.finditer(pattern, text):\n",
    "    s = match.start()\n",
    "    e = match.end()\n",
    "    print('Found \"%s\" at %d:%d' % (text[s:e], s, e))"
   ]
  },
  {
   "cell_type": "code",
   "execution_count": 22,
   "id": "72b1b095",
   "metadata": {},
   "outputs": [
    {
     "name": "stdout",
     "output_type": "stream",
     "text": [
      "Original date in YYY-MM-DD Format:  2023-08-20\n",
      "Changed date in DD-MM-YYYY Format:  20-08-2023\n"
     ]
    }
   ],
   "source": [
    "#Q 19- Write a Python program to convert a date of yyyy-mm-dd format to dd-mm-yyyy format.\n",
    "\n",
    "import re\n",
    "def change_date(dt):\n",
    "        return re.sub(r'(\\d{4})-(\\d{1,2})-(\\d{1,2})', '\\\\3-\\\\2-\\\\1', dt)\n",
    "date = \"2023-08-20\"\n",
    "print(\"Original date in YYY-MM-DD Format: \",date)\n",
    "print(\"Changed date in DD-MM-YYYY Format: \",change_date(date))"
   ]
  },
  {
   "cell_type": "code",
   "execution_count": 16,
   "id": "a22a2d90",
   "metadata": {},
   "outputs": [
    {
     "name": "stdout",
     "output_type": "stream",
     "text": [
      "['01.12 ', '145.8 ', '3.01 ', '27.25 ']\n"
     ]
    }
   ],
   "source": [
    "#Q20- Create a function in python to find all decimal numbers with a precision of 1 or 2 in a string. The use of the re.compile() method is mandatory.\n",
    "    \n",
    "import re\n",
    "\n",
    "string = \"01.12 0132.123 2.31875 145.8 3.01 27.25 0.25\"\n",
    "pattern = re.compile (\"\\d+\\.\\d{1,2}\\D\")\n",
    "\n",
    "x=pattern.findall(string)\n",
    "print(x)\n"
   ]
  },
  {
   "cell_type": "code",
   "execution_count": 28,
   "id": "73dee5d7",
   "metadata": {},
   "outputs": [
    {
     "name": "stdout",
     "output_type": "stream",
     "text": [
      "3\n",
      "Index position: 12\n",
      "40\n",
      "Index position: 19\n"
     ]
    }
   ],
   "source": [
    "#Q21- Write a Python program to separate and print the numbers and their position of a given string.\n",
    "import re\n",
    "\n",
    "text = \"Chandrayaan-3 took 40 days to reach the Moon\"\n",
    "\n",
    "for i in re.finditer(\"\\d+\", text):\n",
    "    print(i.group(0))\n",
    "    print(\"Index position:\", i.start())"
   ]
  },
  {
   "cell_type": "code",
   "execution_count": 29,
   "id": "f7fbbe7c",
   "metadata": {},
   "outputs": [
    {
     "name": "stdout",
     "output_type": "stream",
     "text": [
      "Max_value: 950\n"
     ]
    }
   ],
   "source": [
    "#Q22- Write a regular expression in python program to extract maximum/largest numeric value from a string.\n",
    "    \n",
    "import re\n",
    "\n",
    "text = 'My marks in each semester are: 947, 896, 926, 524, 734, 950, 642'\n",
    "\n",
    "number = re.findall('\\d+', text)\n",
    "number = map(int, number)\n",
    "print(\"Max_value:\",max(number))"
   ]
  },
  {
   "cell_type": "code",
   "execution_count": 30,
   "id": "a9b69816",
   "metadata": {},
   "outputs": [
    {
     "name": "stdout",
     "output_type": "stream",
     "text": [
      "Regular Expression Is An Important Topic In Python\n"
     ]
    }
   ],
   "source": [
    "#Q23- Create a function in python to insert spaces between words starting with capital letters.\n",
    "\n",
    "import re\n",
    "\n",
    "text = 'RegularExpressionIsAnImportantTopicInPython'\n",
    "\n",
    "x = re.sub(r\"(\\w)([A-Z])\", r\"\\1 \\2\", text)\n",
    "print (x)"
   ]
  },
  {
   "cell_type": "code",
   "execution_count": 31,
   "id": "7112967f",
   "metadata": {},
   "outputs": [
    {
     "name": "stdout",
     "output_type": "stream",
     "text": [
      "['Re', 'Ex', 'Is', 'An', 'Im', 'To', 'In', 'Py']\n"
     ]
    }
   ],
   "source": [
    "#Q24- Python regex to find sequences of one upper case letter followed by lower case letters\n",
    "\n",
    "import re\n",
    "\n",
    "text = 'Regular Expression Is An Important Topic In Python'\n",
    "\n",
    "x = re.findall('[A-Z]+[a-z]', text)\n",
    "print (x)"
   ]
  },
  {
   "cell_type": "code",
   "execution_count": 32,
   "id": "72cbcca2",
   "metadata": {},
   "outputs": [
    {
     "name": "stdout",
     "output_type": "stream",
     "text": [
      "['Regular', 'Expression', 'Is', 'An', 'Important', 'Topic', 'In', 'Python']\n"
     ]
    }
   ],
   "source": [
    "#to find complete word\n",
    "#Q24- Python regex to find sequences of one upper case letter followed by lower case letters\n",
    "\n",
    "import re\n",
    "\n",
    "text = 'Regular Expression Is An Important Topic In Python'\n",
    "\n",
    "x = re.findall('[A-Z]+[a-z]+', text)\n",
    "print (x)"
   ]
  },
  {
   "cell_type": "code",
   "execution_count": 33,
   "id": "1175e2aa",
   "metadata": {},
   "outputs": [
    {
     "name": "stdout",
     "output_type": "stream",
     "text": [
      "Hello hello world \n"
     ]
    }
   ],
   "source": [
    "#Q25- Write a Python program to remove continuous duplicate words from Sentence using Regular Expression.\n",
    "    \n",
    "import re\n",
    "\n",
    "text = \"Hello hello world world\"\n",
    "\n",
    "regex = r'\\b(\\w+)(?:\\W+\\1\\b)+'\n",
    "\n",
    "x = re.sub(regex,r'\\1 ', text)\n",
    "print (x)\n"
   ]
  },
  {
   "cell_type": "code",
   "execution_count": 34,
   "id": "6297761f",
   "metadata": {},
   "outputs": [
    {
     "name": "stdout",
     "output_type": "stream",
     "text": [
      "\n",
      "The string is :\n",
      "August2023\n",
      "The string ends with alphanumeric character\n"
     ]
    }
   ],
   "source": [
    "#Q26-  Write a python program using RegEx to accept string ending with alphanumeric character.\n",
    "import re\n",
    "\n",
    "regex = '[a-zA-z0-9]$'\n",
    "\n",
    "def check_string(my_string):\n",
    "\n",
    "   if(re.search(regex, my_string)):\n",
    "      print(\"The string ends with alphanumeric character\")\n",
    "\n",
    "   else:\n",
    "      print(\"The string doesnot end with alphanumeric character\")\n",
    "\n",
    "\n",
    "text = \"August2023\"\n",
    "print(\"\\nThe string is :\")\n",
    "print(text)\n",
    "check_string(text)"
   ]
  },
  {
   "cell_type": "code",
   "execution_count": 36,
   "id": "d4c3ce07",
   "metadata": {},
   "outputs": [
    {
     "name": "stdout",
     "output_type": "stream",
     "text": [
      "['#Doltiwal', '#xyzabc', '#Demonetization']\n"
     ]
    }
   ],
   "source": [
    "#Q27-Write a python program using RegEx to extract the hashtags.\n",
    "\n",
    "import re\n",
    "\n",
    "text= \"\"\"RT @kapil_kausik: #Doltiwal I mean #xyzabc is \"hurt\" by \n",
    "#Demonetization as the same has rendered USELESS <ed><U+00A0><U+00BD><ed><U+00B1><U+0089> \"acquired funds\" No wo\"\"\"\n",
    "\n",
    "regex = \"(#\\w+)\"\n",
    "hashtag_list = re.findall(regex, text)\n",
    "\n",
    "print(hashtag_list)\n"
   ]
  },
  {
   "cell_type": "code",
   "execution_count": 8,
   "id": "aeb0ac3c",
   "metadata": {},
   "outputs": [
    {
     "name": "stdout",
     "output_type": "stream",
     "text": [
      "@Jags123456 Bharat band on 28??<ed><ed>Those who  are protesting #demonetization  are all different party leaders\n"
     ]
    }
   ],
   "source": [
    "#Q28- Write a python program using RegEx to remove <U+..> like symbols\n",
    "\n",
    "import re\n",
    "\n",
    "text = \"@Jags123456 Bharat band on 28??<ed><U+00A0><U+00BD><ed><U+00B8><U+0082>Those who  are protesting #demonetization  are all different party leaders\"\n",
    "\n",
    "x = re.sub(r\"<U\\+[0-9A-Z]+>\", \"\", text)\n",
    "\n",
    "print (x)"
   ]
  },
  {
   "cell_type": "code",
   "execution_count": 43,
   "id": "2630b1d3",
   "metadata": {},
   "outputs": [
    {
     "name": "stdout",
     "output_type": "stream",
     "text": [
      "Computed date: ['12-09-1992', '15-12-1999']\n"
     ]
    }
   ],
   "source": [
    "#Q29- Write a python program to extract dates from the text stored in the text file.\n",
    "import re\n",
    " \n",
    "string = 'Ron was born on 12-09-1992 and he was admitted to school 15-12-1999.' \n",
    "\n",
    "date = re.findall(r'\\d{2}-\\d{2}-\\d{4}', string)\n",
    " \n",
    "print(\"Computed date:\", date)"
   ]
  },
  {
   "cell_type": "code",
   "execution_count": 42,
   "id": "ca2a064e",
   "metadata": {},
   "outputs": [
    {
     "name": "stdout",
     "output_type": "stream",
     "text": [
      " following example creates  ArrayList  a capacity   elements. 4 elements   added   ArrayList   ArrayList  trimmed accordingly.\n"
     ]
    }
   ],
   "source": [
    "#Q30- Create a function in python to remove all words from a string of length between 2 and 4.\n",
    "#The use of the re.compile() method is mandatory.\n",
    "text = \"The following example creates an ArrayList with a capacity of 50 elements. 4 elements are then added to the ArrayList and the ArrayList is trimmed accordingly.\"\n",
    "pattern = re.compile(r'\\b\\w{2,4}\\b')\n",
    "x = re.sub(pattern ,'', text)\n",
    "print(x)"
   ]
  },
  {
   "cell_type": "code",
   "execution_count": null,
   "id": "fcf78398",
   "metadata": {},
   "outputs": [],
   "source": []
  }
 ],
 "metadata": {
  "kernelspec": {
   "display_name": "Python 3 (ipykernel)",
   "language": "python",
   "name": "python3"
  },
  "language_info": {
   "codemirror_mode": {
    "name": "ipython",
    "version": 3
   },
   "file_extension": ".py",
   "mimetype": "text/x-python",
   "name": "python",
   "nbconvert_exporter": "python",
   "pygments_lexer": "ipython3",
   "version": "3.9.13"
  }
 },
 "nbformat": 4,
 "nbformat_minor": 5
}
